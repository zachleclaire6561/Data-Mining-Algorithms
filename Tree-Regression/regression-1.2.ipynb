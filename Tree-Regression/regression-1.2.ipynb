{
 "cells": [
  {
   "cell_type": "code",
   "execution_count": 28,
   "metadata": {},
   "outputs": [],
   "source": [
    "import numpy as np\n",
    "import matplotlib.pyplot as plt\n",
    "from matplotlib.patches import Rectangle\n",
    "from matplotlib import colors\n",
    "import threading, queue\n",
    "import scipy.io\n",
    "\n",
    "\n",
    "from Tree import Node\n"
   ]
  },
  {
   "cell_type": "code",
   "execution_count": 29,
   "metadata": {},
   "outputs": [],
   "source": [
    "#split s means we check all y-values to see if they're above or below the line\n",
    "# %%\n",
    "#split s means we check all y-values to see if they're above or below the line\n",
    "'''\n",
    "split cost functions\n",
    "Desc: finds cost of a split\n",
    "parameters: \n",
    "s: split value\n",
    "c1: mean color left/below split [r,g,b]\n",
    "c2: mean color right/above split [r,g,b]\n",
    "'''\n",
    "def hor_split_cost(s, y_values, vals):\n",
    "    #get values left\n",
    "    #print(vals)\n",
    "    left_values = vals[np.where(y_values <= s)]\n",
    "    right_values = vals[np.where(y_values > s)]\n",
    "    #print(np.shape(left_values))\n",
    "    c1 = np.mean(left_values, axis = 0)\n",
    "    c2 = np.mean(right_values, axis = 0)\n",
    "    #print(len(left_values), len(right_values))\n",
    "    #print(np.shape(np.tile(c1, (np.size(left_values), 1))))\n",
    "    #print(left_values, np.tile(c1, (np.size(left_values), 1)))\n",
    "    #print(np.shape(left_values), \"vs\", np.shape(np.tile(c1, (np.shape(left_values)[0], 1))))\n",
    "    left_values -= np.tile(c1, (np.shape(left_values)[0], 1))\n",
    "    left_cost = np.sum(np.square(np.linalg.norm(left_values, axis=1)))\n",
    "        \n",
    "    right_values -= np.tile(c2, (np.shape(right_values)[0], 1))\n",
    "    right_cost = np.sum(np.square(np.linalg.norm(right_values, axis=1)))\n",
    "    cost = right_cost + left_cost\n",
    "    return cost, c1, c2\n",
    "\n",
    "def vert_split_cost(s, x_values, vals):\n",
    "    #get values left \n",
    "    left_values = vals[np.where(x_values <= s)]\n",
    "    right_values = vals[np.where(x_values > s)]\n",
    "    c1 = np.mean(left_values, axis = 0)\n",
    "    c2 = np.mean(right_values, axis = 0)\n",
    "    #print(len(left_values))\n",
    "    #print(c1)\n",
    "    left_values -= np.tile(c1, (np.shape(left_values)[0], 1))\n",
    "    left_cost = np.sum(np.square(np.linalg.norm(left_values, axis=1)))\n",
    "        \n",
    "    right_values -= np.tile(c2, (np.shape(right_values)[0], 1))\n",
    "    right_cost = np.sum(np.square(np.linalg.norm(right_values, axis=1)))\n",
    "\n",
    "    #print(left_values)\n",
    "    cost = left_cost + right_cost\n",
    "    return cost, c1, c2"
   ]
  },
  {
   "cell_type": "code",
   "execution_count": 30,
   "metadata": {},
   "outputs": [],
   "source": [
    "'''\n",
    "Returns direction & optimal split value\n",
    "'''\n",
    "def OptimalSplitRegression(x_data,y_data,vals):\n",
    "    #print(x_data,y_data,vals)\n",
    "    #pre-sort X & Y values:\n",
    "    x_sorted = np.sort(x_data)\n",
    "    y_sorted = np.sort(y_data)\n",
    "    #print(\"xsorted\", y_sorted, y_data)\n",
    "    if(len(x_sorted) == 0 and len(y_sorted) == 0):\n",
    "        print(\"MAJOR ISSUE: No Values\")\n",
    "    #print(x_sorted)\n",
    "\n",
    "    #get split values by summing array with shifted array by 1 to right and taking mean of every entry\n",
    "    x_splits = 0.5 * (x_sorted[:-1]+np.roll(x_sorted,-1)[:-1])\n",
    "    y_splits = 0.5 * (y_sorted[:-1]+np.roll(y_sorted,-1)[:-1])\n",
    "    #print(x_splits, y_splits)\n",
    "     \n",
    "    min_cost = float('inf')\n",
    "    min_c1: np.array\n",
    "    min_c2: np.array\n",
    "    min_direction = False\n",
    "    min_s = 0\n",
    "    #print(\"starting splits\")\n",
    "    #find min cost split among both x and y splits\n",
    "    for x_split in x_splits:\n",
    "        cost, c1, c2 = vert_split_cost(x_split, x_data, vals)\n",
    "        #print(f'x_split: {x_split}; cost: {cost}')\n",
    "        if(cost < min_cost):\n",
    "            min_s = x_split\n",
    "            min_cost = cost\n",
    "            min_c1 = c1\n",
    "            min_c2 = c2\n",
    "            min_direction = True\n",
    "    \n",
    "    #print(\"Done with X splits\")\n",
    "    for y_split in y_splits:\n",
    "        cost, c1, c2 = hor_split_cost(y_split, y_data, vals)\n",
    "        #print(f'y_split: {y_split}; cost: {cost}')\n",
    "        if(cost < min_cost):\n",
    "            min_s = y_split\n",
    "            min_cost = cost\n",
    "            min_c1 = c1\n",
    "            min_c2 = c2\n",
    "            min_direction = False\n",
    "    return min_s, min_cost, min_c1, min_c2, min_direction"
   ]
  },
  {
   "cell_type": "code",
   "execution_count": 31,
   "metadata": {},
   "outputs": [],
   "source": [
    "#    write_to_image(img, node.x_min, node.x_max, node.y_min, node.y_max, np.mean(node.values, axis = 1))\n",
    "\n",
    "def write_to_image(img, x_min, x_max, y_min, y_max, c):\n",
    "    #print(dir, x_min, x_max, y_min, y_max, s, c1, c2, x_dim, y_dim)\n",
    "    img[x_min:x_max, y_min:y_max] = c\n",
    "    return img"
   ]
  },
  {
   "cell_type": "code",
   "execution_count": 32,
   "metadata": {},
   "outputs": [
    {
     "data": {
      "text/plain": [
       "'\\n#Code for Regression Tree:\\nMAX_ITTER = 2\\nx_dim = 100\\ny_dim = 100\\n\\nY = np.array([0.25, 0.1, 0.8])\\nX = np.array([0.25,0.8,0.6])\\nV = np.array([[0.1,0.5,0.2],[0.4,0.1,0.3],[0.9,0.2,0.0]])\\nn = 3\\n\\nvals = V\\ny_values = Y\\ns = 0.5\\nleft_values = vals[np.nonzero(y_values <= s)]\\nright_values = vals[np.nonzero(y_values > s)]\\n\\nprint(np.nonzero(y_values > s))\\n'"
      ]
     },
     "execution_count": 32,
     "metadata": {},
     "output_type": "execute_result"
    }
   ],
   "source": [
    "'''\n",
    "#Code for Regression Tree:\n",
    "MAX_ITTER = 2\n",
    "x_dim = 100\n",
    "y_dim = 100\n",
    "\n",
    "Y = np.array([0.25, 0.1, 0.8])\n",
    "X = np.array([0.25,0.8,0.6])\n",
    "V = np.array([[0.1,0.5,0.2],[0.4,0.1,0.3],[0.9,0.2,0.0]])\n",
    "n = 3\n",
    "\n",
    "vals = V\n",
    "y_values = Y\n",
    "s = 0.5\n",
    "left_values = vals[np.nonzero(y_values <= s)]\n",
    "right_values = vals[np.nonzero(y_values > s)]\n",
    "\n",
    "print(np.nonzero(y_values > s))\n",
    "'''"
   ]
  },
  {
   "cell_type": "code",
   "execution_count": 39,
   "metadata": {},
   "outputs": [
    {
     "name": "stdout",
     "output_type": "stream",
     "text": [
      "s: 0.525, c1: [0.25 0.3  0.25], c2: [0.9 0.2 0. ]\n",
      "len lengths:  (array([0, 1], dtype=int64),) (array([2], dtype=int64),) 2\n",
      "s: 0.525, c1: [0.1 0.5 0.2], c2: [0.4 0.1 0.3]\n",
      "len lengths:  (array([0], dtype=int64),) (array([1], dtype=int64),) 1\n",
      "Done splitting!\n"
     ]
    },
    {
     "data": {
      "text/plain": [
       "'\\nwe need top get the indices of the values and then \\n'"
      ]
     },
     "execution_count": 39,
     "metadata": {},
     "output_type": "execute_result"
    },
    {
     "data": {
      "image/png": "[encoded data removed]",
      "text/plain": [
       "<Figure size 432x288 with 1 Axes>"
      ]
     },
     "metadata": {
      "needs_background": "light"
     },
     "output_type": "display_data"
    }
   ],
   "source": [
    "#Code for Regression Tree:\n",
    "MAX_ITTER = 2\n",
    "x_dim = 100\n",
    "y_dim = 100\n",
    "\n",
    "Y = np.array([0.25, 0.1, 0.8])\n",
    "X = np.array([0.25,0.8,0.6])\n",
    "V = np.array([[0.1,0.5,0.2],[0.4,0.1,0.3],[0.9,0.2,0.0]])\n",
    "n = 1\n",
    "\n",
    "#stores leaves to consider\n",
    "q = queue.Queue()\n",
    "# X_points, Y_points, x_min, x_max, y_min, y_max, color\n",
    "init_node = Node(X, Y, V, 0, x_dim, 0, y_dim)\n",
    "\n",
    "q.put(init_node)\n",
    "itter = 0\n",
    "img = np.zeros((x_dim, y_dim, 3))\n",
    "\n",
    "#q.qsize() function is inaccurate, so we use our own count\n",
    "queue_count = 2\n",
    "leaf_list = []\n",
    "while itter < MAX_ITTER and queue_count > 0:\n",
    "    itter += 1\n",
    "    curr_node = q.get()\n",
    "    queue_count -= 1\n",
    "    s, cost, c1, c2, direction = OptimalSplitRegression(curr_node.x_elements,curr_node.y_elements,curr_node.vals)\n",
    "    #print(curr_node.x_elements, curr_node.y_elements)\n",
    "    #write to our image with the current split\n",
    "    print(f\"s: {s}, c1: {c1}, c2: {c2}\")\n",
    "    if(not direction):\n",
    "        #horizontal cut:\n",
    "        y_left = curr_node.y_elements[curr_node.y_elements <= s]\n",
    "        y_right = curr_node.y_elements[curr_node.y_elements > s]\n",
    "\n",
    "        lefts = np.where(curr_node.y_elements <= s)\n",
    "        rights = np.where(curr_node.y_elements > s)\n",
    "\n",
    "        left_values = curr_node.vals[lefts]\n",
    "        right_values = curr_node.vals[rights]\n",
    "\n",
    "        #create children node we push to the queue: \n",
    "        left_node = Node(curr_node.x_elements[lefts], y_left, left_values, curr_node.x_min, curr_node.x_max, curr_node.y_min, int(s*y_dim))\n",
    "        right_node = Node(curr_node.x_elements[rights], y_right, right_values, curr_node.x_min, curr_node.x_max, int(s*y_dim), curr_node.y_max)\n",
    "        print(\"len lengths: \", lefts, rights, np.size(lefts))\n",
    "\n",
    "        #enqueue mixed leaves:\n",
    "        if(np.size(lefts) > 1 and cost > 0):\n",
    "            q.put(left_node)\n",
    "            queue_count += 1\n",
    "        else:\n",
    "            leaf_list.append(left_node)\n",
    "        if(np.size(rights) > 1 and cost > 0):\n",
    "            q.put(right_node)\n",
    "            queue_count +=1\n",
    "        else:\n",
    "            leaf_list.append(right_node)\n",
    "    else:\n",
    "        #vertical cut:\n",
    "        x_left = curr_node.x_elements[curr_node.x_elements <= s]\n",
    "        x_right = curr_node.x_elements[curr_node.x_elements > s]\n",
    "        lefts = np.where(curr_node.x_elements <= s)\n",
    "        rights = np.where(curr_node.x_elements > s)\n",
    "        left_values = curr_node.vals[lefts]\n",
    "        right_values = curr_node.vals[rights]\n",
    "        \n",
    "        #create children node we push to the queue:\n",
    "        left_node = Node(x_left, curr_node.y_elements[lefts], left_values, curr_node.x_min, int(s*x_dim), curr_node.y_min, curr_node.y_max)\n",
    "        right_node = Node(x_right, curr_node.y_elements[rights], right_values, int(s*x_dim), curr_node.x_max, curr_node.y_min, curr_node.y_max)\n",
    "        print(\"len lengths: \", lefts, rights, np.size(lefts))\n",
    "\n",
    "        if(np.size(lefts) > 1 and cost > 0):\n",
    "            q.put(left_node)\n",
    "            queue_count += 1\n",
    "        else:\n",
    "            leaf_list.append(left_node)\n",
    "        if(np.size(rights) > 1 and cost > 0):\n",
    "            q.put(right_node)\n",
    "            queue_count +=1\n",
    "        else:\n",
    "            leaf_list.append(right_node)\n",
    "#print(itter, queue_count)\n",
    "print(\"Done splitting!\")\n",
    "#draw on image with leaf nodes:\n",
    "for node in leaf_list:\n",
    "    img[node.x_min: node.x_max,  node.y_min:node.y_max] = np.mean(node.vals, axis = 0)\n",
    "while q.qsize() >0:\n",
    "    print(q.qsize())\n",
    "    node = q.get()\n",
    "    print(node.x_min, node.x_max,  node.y_min,node.y_max, node.vals)\n",
    "    img[node.x_min: node.x_max,  node.y_min:node.y_max] = np.mean(node.vals, axis = 0)\n",
    "\n",
    "plt.title(\"Single Split Toy Example\")\n",
    "plt.imshow(img.transpose(1,0,2), origin = \"lower\")\n",
    "\n",
    "plt.savefig(\"regression_tree2-1.png\")\n",
    "'''\n",
    "we need top get the indices of the values and then \n",
    "'''"
   ]
  },
  {
   "cell_type": "code",
   "execution_count": 61,
   "metadata": {},
   "outputs": [
    {
     "data": {
      "image/png": "[encoded data removed]",
      "text/plain": [
       "<Figure size 432x288 with 1 Axes>"
      ]
     },
     "metadata": {
      "needs_background": "light"
     },
     "output_type": "display_data"
    }
   ],
   "source": [
    "colors = ['g', 'm', 'r']\n",
    "for i in range(0,3):\n",
    "    plt.scatter(X[i],Y[i], c = colors[i])\n",
    "plt.savefig(\"toy_example.png\")\n",
    "plt.show()\n"
   ]
  }
 ],
 "metadata": {
  "interpreter": {
   "hash": "63fd5069d213b44bf678585dea6b12cceca9941eaf7f819626cde1f2670de90d"
  },
  "kernelspec": {
   "display_name": "Python 3.9.6 64-bit",
   "language": "python",
   "name": "python3"
  },
  "language_info": {
   "codemirror_mode": {
    "name": "ipython",
    "version": 3
   },
   "file_extension": ".py",
   "mimetype": "text/x-python",
   "name": "python",
   "nbconvert_exporter": "python",
   "pygments_lexer": "ipython3",
   "version": "3.9.6"
  },
  "orig_nbformat": 4
 },
 "nbformat": 4,
 "nbformat_minor": 2
}
