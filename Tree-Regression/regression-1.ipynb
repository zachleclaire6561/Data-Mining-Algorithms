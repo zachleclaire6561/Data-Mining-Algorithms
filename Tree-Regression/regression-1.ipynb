{
 "cells": [
  {
   "cell_type": "code",
   "execution_count": 12,
   "metadata": {},
   "outputs": [],
   "source": [
    "import numpy as np\n",
    "import matplotlib.pyplot as plt\n",
    "from matplotlib.patches import Rectangle\n",
    "from matplotlib import colors\n",
    "import threading, queue\n",
    "import scipy.io\n",
    "\n",
    "\n",
    "from Tree import Node\n"
   ]
  },
  {
   "cell_type": "code",
   "execution_count": 13,
   "metadata": {},
   "outputs": [],
   "source": [
    "#split s means we check all y-values to see if they're above or below the line\n",
    "# %%\n",
    "#split s means we check all y-values to see if they're above or below the line\n",
    "'''\n",
    "split cost functions\n",
    "Desc: finds cost of a split\n",
    "parameters: \n",
    "s: split value\n",
    "c1: mean color left/below split [r,g,b]\n",
    "c2: mean color right/above split [r,g,b]\n",
    "'''\n",
    "def hor_split_cost(s, y_values, vals):\n",
    "    #get values left \n",
    "    left_values = vals[np.nonzero(y_values <= s)]\n",
    "    right_values = vals[np.nonzero(y_values > s)]\n",
    "    c1 = np.mean(left_values, axis = 0)\n",
    "    c2 = np.mean(right_values, axis = 0)\n",
    "    #print(len(left_values))\n",
    "    #print(c1)\n",
    "    left_values -= np.tile(c1, (len(left_values), 1))\n",
    "    right_values -= np.tile(c2, (len(right_values), 1))\n",
    "    #print(left_values)\n",
    "    cost = np.sum(np.square(np.linalg.norm(left_values, axis=1))) + np.sum(np.square(np.linalg.norm(right_values, axis=1)))\n",
    "    return cost, c1, c2\n",
    "\n",
    "def vert_split_cost(s, x_values, vals):\n",
    "    #get values left \n",
    "    left_values = vals[np.nonzero(x_values <= s)]\n",
    "    right_values = vals[np.nonzero(x_values > s)]\n",
    "    c1 = np.mean(left_values, axis = 0)\n",
    "    c2 = np.mean(right_values, axis = 0)\n",
    "    #print(len(left_values))\n",
    "    #print(c1)\n",
    "    left_values -= np.tile(c1, (len(left_values), 1))\n",
    "    right_values -= np.tile(c2, (len(right_values), 1))\n",
    "    #print(left_values)\n",
    "    cost = np.sum(np.square(np.linalg.norm(left_values, axis=1))) + np.sum(np.square(np.linalg.norm(right_values, axis=1)))\n",
    "    return cost, c1, c2"
   ]
  },
  {
   "cell_type": "code",
   "execution_count": 14,
   "metadata": {},
   "outputs": [],
   "source": [
    "'''\n",
    "Returns direction & optimal split value\n",
    "'''\n",
    "def OptimalSplitRegression(x_data,y_data,vals):\n",
    "    #pre-sort X & Y values:\n",
    "    x_sorted = np.sort(x_data)\n",
    "    y_sorted = np.sort(y_data)\n",
    "\n",
    "    #print(x_sorted)\n",
    "\n",
    "    #get split values by summing array with shifted array by 1 to right and taking mean of every entry\n",
    "    x_splits = 0.5 * (x_sorted[:-1]+np.roll(x_sorted,-1)[:-1])\n",
    "    y_splits = 0.5 * (y_sorted[:-1]+np.roll(y_sorted,-1)[:-1])\n",
    "    #print(x_splits, y_splits)\n",
    "     \n",
    "    min_cost = float('inf')\n",
    "    min_c1: np.array\n",
    "    min_c2: np.array\n",
    "    min_direction = False\n",
    "    min_s = 0\n",
    "\n",
    "    #find min cost split among both x and y splits\n",
    "    for x_split in x_splits:\n",
    "        cost, c1, c2 = hor_split_cost(x_split, x_data, vals)\n",
    "        if(cost < min_cost):\n",
    "            min_s = x_split\n",
    "            min_cost = cost\n",
    "            min_c1 = c1\n",
    "            min_c2 = c2\n",
    "            min_direction = True\n",
    "    for y_split in y_splits:\n",
    "        cost, c1, c2 = vert_split_cost(x_split, y_data, vals)\n",
    "        if(cost <= min_cost):\n",
    "            min_s = y_split\n",
    "            min_cost = cost\n",
    "            min_c1 = c1\n",
    "            min_c2 = c2\n",
    "            min_direction = False\n",
    "    return min_s, min_cost, min_c1, min_c2, min_direction"
   ]
  },
  {
   "cell_type": "code",
   "execution_count": 15,
   "metadata": {},
   "outputs": [],
   "source": [
    "\n",
    "Y = np.array([0.25, 0.1, 0.8])\n",
    "X = np.array([0.25,0.8,0.6])\n",
    "V = np.array([[0.1,0.5,0.2],[0.4,0.1,0.3],[0.9,0.2,0.0]])\n",
    "n = 3\n",
    "\n",
    "print(X,Y,V)\n",
    "s, min_cost,min_c1, min_c2, min_direction = OptimalSplitRegression(X,Y,V)\n",
    "print(s, min_cost)\n",
    "\n",
    "'''\n",
    "#get matlab data as nested dictionary\n",
    "image = scipy.io.loadmat('MysteryImage.mat')\n",
    "\n",
    "#extract compressed matrix from dictionaries\n",
    "\n",
    "#columns: y-axis; rows: x-axis; vals: [r,g,b]\n",
    "Y = image['cols']\n",
    "X = image['rows']\n",
    "V = image['vals']\n",
    "\n",
    "# number of pixels\n",
    "n = np.shape(X)[0]\n",
    "'''"
   ]
  },
  {
   "cell_type": "code",
   "execution_count": 16,
   "metadata": {},
   "outputs": [
    {
     "data": {
      "image/png": "[encoded data removed]",
      "text/plain": [
       "<Figure size 432x288 with 1 Axes>"
      ]
     },
     "metadata": {
      "needs_background": "light"
     },
     "output_type": "display_data"
    }
   ],
   "source": [
    "x_dim = 100\n",
    "y_dim = 100\n",
    "img = np.zeros((x_dim, y_dim, 3))\n",
    "\n",
    "if(min_direction):\n",
    "    #horizontal cut\n",
    "\n",
    "    #scale it to the integers\n",
    "    #s *= x_dim\n",
    "    img[0:x_dim, 0:int(s)] = min_c1\n",
    "    img[0:x_dim, int(s):y_dim] = min_c2\n",
    "else:\n",
    "    #vertical cut\n",
    "    \n",
    "    #scale it to the integers\n",
    "    #s *= y_dim\n",
    "    img[0:int(s), 0:y_dim] = min_c1\n",
    "    img[int(s):x_dim, 0:y_dim] = min_c2\n",
    "\n",
    "plt.imshow(img)\n",
    "plt.title(\"Toy Example Spit\")\n",
    "plt.savefig(\"optimal_split.png\")"
   ]
  },
  {
   "cell_type": "code",
   "execution_count": 17,
   "metadata": {},
   "outputs": [],
   "source": [
    "def write_to_image(img, dir, x_min, x_max, y_min, y_max, s, c1, c2, x_dim, y_dim):\n",
    "    if(dir):\n",
    "        #horizontal cut\n",
    "\n",
    "        #scale it to the integers\n",
    "        split = s*x_dim\n",
    "        img[x_min:x_max, y_min:int(split)] = c1\n",
    "        img[x_min:x_max, int(split):y_max] = c2\n",
    "    else:\n",
    "        #vertical cut\n",
    "\n",
    "        #scale it to the integers\n",
    "        split  = s* y_dim\n",
    "        img[x_min:int(split), y_min:y_max] = c1\n",
    "        img[int(split):x_max, y_min:y_max] = c2\n",
    "\n",
    "    return img"
   ]
  },
  {
   "cell_type": "code",
   "execution_count": 18,
   "metadata": {},
   "outputs": [
    {
     "data": {
      "image/png": "[encoded data removed]",
      "text/plain": [
       "<Figure size 432x288 with 1 Axes>"
      ]
     },
     "metadata": {
      "needs_background": "light"
     },
     "output_type": "display_data"
    }
   ],
   "source": [
    "x_dim = 100\n",
    "y_dim = 100\n",
    "\n",
    "img = np.zeros((x_dim, y_dim, 3))\n",
    "\n",
    "plt.imshow(write_to_image(img, min_direction, 0, x_dim, 0, y_dim, s, min_c1, min_c2, x_dim, y_dim))\n",
    "plt.title(\"Toy Example Spit\")\n",
    "plt.savefig(\"optimal_split.png\")"
   ]
  },
  {
   "cell_type": "code",
   "execution_count": 19,
   "metadata": {},
   "outputs": [
    {
     "ename": "ValueError",
     "evalue": "non-broadcastable output operand with shape (6607,) doesn't match the broadcast shape (6607,6607)",
     "output_type": "error",
     "traceback": [
      "\u001b[1;31m---------------------------------------------------------------------------\u001b[0m",
      "\u001b[1;31mValueError\u001b[0m                                Traceback (most recent call last)",
      "\u001b[1;32m~\\AppData\\Local\\Temp/ipykernel_2024/301793641.py\u001b[0m in \u001b[0;36m<module>\u001b[1;34m\u001b[0m\n\u001b[0;32m     14\u001b[0m \u001b[1;32mwhile\u001b[0m \u001b[0mitter\u001b[0m \u001b[1;33m<\u001b[0m \u001b[0mMAX_ITTER\u001b[0m \u001b[1;32mand\u001b[0m \u001b[0mq\u001b[0m\u001b[1;33m.\u001b[0m\u001b[0mqsize\u001b[0m\u001b[1;33m(\u001b[0m\u001b[1;33m)\u001b[0m \u001b[1;33m>\u001b[0m \u001b[1;36m0\u001b[0m\u001b[1;33m:\u001b[0m\u001b[1;33m\u001b[0m\u001b[1;33m\u001b[0m\u001b[0m\n\u001b[0;32m     15\u001b[0m     \u001b[0mcurr_node\u001b[0m \u001b[1;33m=\u001b[0m \u001b[0mq\u001b[0m\u001b[1;33m.\u001b[0m\u001b[0mget\u001b[0m\u001b[1;33m(\u001b[0m\u001b[1;33m)\u001b[0m\u001b[1;33m\u001b[0m\u001b[1;33m\u001b[0m\u001b[0m\n\u001b[1;32m---> 16\u001b[1;33m     \u001b[0ms\u001b[0m\u001b[1;33m,\u001b[0m \u001b[0mcost\u001b[0m\u001b[1;33m,\u001b[0m \u001b[0mc1\u001b[0m\u001b[1;33m,\u001b[0m \u001b[0mc2\u001b[0m\u001b[1;33m,\u001b[0m \u001b[0mdirection\u001b[0m \u001b[1;33m=\u001b[0m \u001b[0mOptimalSplitRegression\u001b[0m\u001b[1;33m(\u001b[0m\u001b[0mcurr_node\u001b[0m\u001b[1;33m.\u001b[0m\u001b[0mx_elements\u001b[0m\u001b[1;33m,\u001b[0m\u001b[0mcurr_node\u001b[0m\u001b[1;33m.\u001b[0m\u001b[0my_elements\u001b[0m\u001b[1;33m,\u001b[0m\u001b[0mcurr_node\u001b[0m\u001b[1;33m.\u001b[0m\u001b[0mvals\u001b[0m\u001b[1;33m)\u001b[0m\u001b[1;33m\u001b[0m\u001b[1;33m\u001b[0m\u001b[0m\n\u001b[0m\u001b[0;32m     17\u001b[0m \u001b[1;33m\u001b[0m\u001b[0m\n\u001b[0;32m     18\u001b[0m     \u001b[1;31m#write to our image with the current split\u001b[0m\u001b[1;33m\u001b[0m\u001b[1;33m\u001b[0m\u001b[1;33m\u001b[0m\u001b[0m\n",
      "\u001b[1;32m~\\AppData\\Local\\Temp/ipykernel_2024/4133417020.py\u001b[0m in \u001b[0;36mOptimalSplitRegression\u001b[1;34m(x_data, y_data, vals)\u001b[0m\n\u001b[0;32m     22\u001b[0m     \u001b[1;31m#find min cost split among both x and y splits\u001b[0m\u001b[1;33m\u001b[0m\u001b[1;33m\u001b[0m\u001b[1;33m\u001b[0m\u001b[0m\n\u001b[0;32m     23\u001b[0m     \u001b[1;32mfor\u001b[0m \u001b[0mx_split\u001b[0m \u001b[1;32min\u001b[0m \u001b[0mx_splits\u001b[0m\u001b[1;33m:\u001b[0m\u001b[1;33m\u001b[0m\u001b[1;33m\u001b[0m\u001b[0m\n\u001b[1;32m---> 24\u001b[1;33m         \u001b[0mcost\u001b[0m\u001b[1;33m,\u001b[0m \u001b[0mc1\u001b[0m\u001b[1;33m,\u001b[0m \u001b[0mc2\u001b[0m \u001b[1;33m=\u001b[0m \u001b[0mhor_split_cost\u001b[0m\u001b[1;33m(\u001b[0m\u001b[0mx_split\u001b[0m\u001b[1;33m,\u001b[0m \u001b[0mx_data\u001b[0m\u001b[1;33m,\u001b[0m \u001b[0mvals\u001b[0m\u001b[1;33m)\u001b[0m\u001b[1;33m\u001b[0m\u001b[1;33m\u001b[0m\u001b[0m\n\u001b[0m\u001b[0;32m     25\u001b[0m         \u001b[1;32mif\u001b[0m\u001b[1;33m(\u001b[0m\u001b[0mcost\u001b[0m \u001b[1;33m<\u001b[0m \u001b[0mmin_cost\u001b[0m\u001b[1;33m)\u001b[0m\u001b[1;33m:\u001b[0m\u001b[1;33m\u001b[0m\u001b[1;33m\u001b[0m\u001b[0m\n\u001b[0;32m     26\u001b[0m             \u001b[0mmin_s\u001b[0m \u001b[1;33m=\u001b[0m \u001b[0mx_split\u001b[0m\u001b[1;33m\u001b[0m\u001b[1;33m\u001b[0m\u001b[0m\n",
      "\u001b[1;32m~\\AppData\\Local\\Temp/ipykernel_2024/536515812.py\u001b[0m in \u001b[0;36mhor_split_cost\u001b[1;34m(s, y_values, vals)\u001b[0m\n\u001b[0;32m     18\u001b[0m     \u001b[1;31m#print(len(left_values))\u001b[0m\u001b[1;33m\u001b[0m\u001b[1;33m\u001b[0m\u001b[1;33m\u001b[0m\u001b[0m\n\u001b[0;32m     19\u001b[0m     \u001b[1;31m#print(c1)\u001b[0m\u001b[1;33m\u001b[0m\u001b[1;33m\u001b[0m\u001b[1;33m\u001b[0m\u001b[0m\n\u001b[1;32m---> 20\u001b[1;33m     \u001b[0mleft_values\u001b[0m \u001b[1;33m-=\u001b[0m \u001b[0mnp\u001b[0m\u001b[1;33m.\u001b[0m\u001b[0mtile\u001b[0m\u001b[1;33m(\u001b[0m\u001b[0mc1\u001b[0m\u001b[1;33m,\u001b[0m \u001b[1;33m(\u001b[0m\u001b[0mlen\u001b[0m\u001b[1;33m(\u001b[0m\u001b[0mleft_values\u001b[0m\u001b[1;33m)\u001b[0m\u001b[1;33m,\u001b[0m \u001b[1;36m1\u001b[0m\u001b[1;33m)\u001b[0m\u001b[1;33m)\u001b[0m\u001b[1;33m\u001b[0m\u001b[1;33m\u001b[0m\u001b[0m\n\u001b[0m\u001b[0;32m     21\u001b[0m     \u001b[0mright_values\u001b[0m \u001b[1;33m-=\u001b[0m \u001b[0mnp\u001b[0m\u001b[1;33m.\u001b[0m\u001b[0mtile\u001b[0m\u001b[1;33m(\u001b[0m\u001b[0mc2\u001b[0m\u001b[1;33m,\u001b[0m \u001b[1;33m(\u001b[0m\u001b[0mlen\u001b[0m\u001b[1;33m(\u001b[0m\u001b[0mright_values\u001b[0m\u001b[1;33m)\u001b[0m\u001b[1;33m,\u001b[0m \u001b[1;36m1\u001b[0m\u001b[1;33m)\u001b[0m\u001b[1;33m)\u001b[0m\u001b[1;33m\u001b[0m\u001b[1;33m\u001b[0m\u001b[0m\n\u001b[0;32m     22\u001b[0m     \u001b[1;31m#print(left_values)\u001b[0m\u001b[1;33m\u001b[0m\u001b[1;33m\u001b[0m\u001b[1;33m\u001b[0m\u001b[0m\n",
      "\u001b[1;31mValueError\u001b[0m: non-broadcastable output operand with shape (6607,) doesn't match the broadcast shape (6607,6607)"
     ]
    }
   ],
   "source": [
    "#Code for Regression Tree:\n",
    "MAX_ITTER = 100\n",
    "x_dim = 2592\n",
    "y_dim = 1456\n",
    "\n",
    "#stores leaves to consider\n",
    "q = queue.Queue()\n",
    "# X_points, Y_points, x_min, x_max, y_min, y_max, color\n",
    "init_node = Node(X, Y, V, 0, x_dim, 0, y_dim)\n",
    "\n",
    "q.put(init_node)\n",
    "itter = 0\n",
    "img = np.zeros((x_dim, y_dim, 3))\n",
    "while itter < MAX_ITTER and q.qsize() > 0:\n",
    "    curr_node = q.get()\n",
    "    s, cost, c1, c2, direction = OptimalSplitRegression(curr_node.x_elements,curr_node.y_elements,curr_node.vals)\n",
    "    \n",
    "    #write to our image with the current split\n",
    "    write_to_image(img, direction, curr_node.x_min, curr_node.x_max, curr_node.y_min, curr_node.y_max, s, c1, c2, x_dim, y_dim)\n",
    "    if(direction):\n",
    "        y_left = np.nonzero(curr_node.y_elements <= s)\n",
    "        y_right = np.nonzero(curr_node.y_elements > s)\n",
    "\n",
    "        left_values = curr_node.vals[y_left]\n",
    "        right_values = curr_node.vals[y_right]\n",
    "\n",
    "        #create children node we push to the queue: \n",
    "        left_node = Node(curr_node.x_elements, y_left, left_values, curr_node.x_min, curr_node.x_max, curr_node.y_min, s)\n",
    "        right_node = Node(curr_node.x_elements, y_right, right_values, curr_node.x_min, curr_node.x_max, s, curr_node.y_max)\n",
    "        q.put(left_node)\n",
    "        q.put(right_node)\n",
    "    else:\n",
    "        x_left = np.nonzero(curr_node.x_elements <= s)\n",
    "        x_right = np.nonzero(curr_node.x_elements > s)\n",
    "        \n",
    "        left_values = curr_node.vals[x_left]\n",
    "        right_values = curr_node.vals[x_right]\n",
    "        \n",
    "        #create children node we push to the queue:\n",
    "        left_node = Node(x_left, curr_node.y_elements, left_values, curr_node.x_min, s, curr_node.y_min, curr_node.y_max)\n",
    "        right_node = Node(x_right, curr_node.y_elements, right_values, s, curr_node.x_max, curr_node.y_min, curr_node.y_max)\n",
    "        q.put(left_node)\n",
    "        q.put(right_node)\n",
    "\n",
    "    #keep a queue to store leaves we want to consider:\n",
    "\n",
    "    #print(\"w\")\n",
    "#priority queue based on error?\n",
    "\n",
    "'''\n",
    "we need top get the indices of the values and then \n",
    "'''"
   ]
  }
 ],
 "metadata": {
  "interpreter": {
   "hash": "63fd5069d213b44bf678585dea6b12cceca9941eaf7f819626cde1f2670de90d"
  },
  "kernelspec": {
   "display_name": "Python 3.9.6 64-bit",
   "language": "python",
   "name": "python3"
  },
  "language_info": {
   "codemirror_mode": {
    "name": "ipython",
    "version": 3
   },
   "file_extension": ".py",
   "mimetype": "text/x-python",
   "name": "python",
   "nbconvert_exporter": "python",
   "pygments_lexer": "ipython3",
   "version": "3.9.6"
  },
  "orig_nbformat": 4
 },
 "nbformat": 4,
 "nbformat_minor": 2
}
