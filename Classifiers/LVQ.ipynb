{
 "cells": [
  {
   "cell_type": "code",
   "execution_count": 181,
   "metadata": {},
   "outputs": [],
   "source": [
    "import numpy as np\n",
    "import scipy.io\n",
    "import math"
   ]
  },
  {
   "cell_type": "code",
   "execution_count": 182,
   "metadata": {},
   "outputs": [
    {
     "name": "stdout",
     "output_type": "stream",
     "text": [
      "(96,)\n"
     ]
    }
   ],
   "source": [
    "#get matlab data as nested dictionary\n",
    "training = scipy.io.loadmat('ECG_train.mat')\n",
    "testing = scipy.io.loadmat('ECG_test.mat')\n",
    "\n",
    "#extract data from dictionaries\n",
    "X_normal = training['X_train_normal']\n",
    "X_abnormal = training['X_train_abnormal']\n",
    "\n",
    "X_normal_test = testing['X_test_normal']\n",
    "X_abnormal_test = testing['X_test_abnormal']\n",
    "print(X_normal[1].shape)"
   ]
  },
  {
   "cell_type": "code",
   "execution_count": 183,
   "metadata": {},
   "outputs": [],
   "source": [
    "k = 7 # number of neighbors to consider\n",
    "T_MAX = 1000\n",
    "alpha0 = 0.9"
   ]
  },
  {
   "cell_type": "code",
   "execution_count": 184,
   "metadata": {},
   "outputs": [],
   "source": [
    "def sample_func(X,t):\n",
    "    index = t%X.shape[0]\n",
    "    return X[index]"
   ]
  },
  {
   "cell_type": "code",
   "execution_count": 185,
   "metadata": {},
   "outputs": [],
   "source": [
    "def euclidian_distance(x1,x2):\n",
    "    return abs(np.linalg.norm(x1-x2))\n",
    "\n",
    "def getLearningRate(t, alpha0, beta):\n",
    "    return alpha0 * math.exp(-t*beta)\n",
    "\n",
    "distance = euclidian_distance"
   ]
  },
  {
   "cell_type": "code",
   "execution_count": 186,
   "metadata": {},
   "outputs": [],
   "source": [
    "def getBMU(prototypes, sample, distance):\n",
    "    #init variables\n",
    "    best_dist = float(\"inf\")\n",
    "    best_vec = 0\n",
    "\n",
    "    #check every prototype vector\n",
    "    index = 0\n",
    "    bmu_index = 0\n",
    "    for proto in prototypes:\n",
    "        #check if distance between sample and prototype < current lowest\n",
    "        new_dist = distance(sample,proto)\n",
    "        if  new_dist < best_dist:\n",
    "            best_dist = new_dist\n",
    "            best_vec = proto\n",
    "            bmu_index = index\n",
    "        index += 1\n",
    "    \n",
    "    return bmu_index, best_vec\n"
   ]
  },
  {
   "cell_type": "code",
   "execution_count": 187,
   "metadata": {},
   "outputs": [],
   "source": [
    "prototypes = [None] * 2\n",
    "\n",
    "for i in range(0,2):\n",
    "    X = []\n",
    "    if(i == 1):\n",
    "        X = X_normal\n",
    "    else:\n",
    "        X = X_abnormal\n",
    "    #get center of data\n",
    "    avg = np.zeros((1,X[0].shape[0]))\n",
    "    total = 0\n",
    "    #take sum of all vectors\n",
    "    for x in X:\n",
    "        avg += x\n",
    "        total += 1\n",
    "    #compute average\n",
    "    avg = avg * 1/total\n",
    "    prototypes[i] = np.tile(avg, (k, 1) ) + (0.5*np.ones((k, X[0].shape[0])) - np.random.rand(k, X[0].shape[0]))\n",
    "    beta = math.log(10)/T_MAX\n",
    "    #Loop through t:\n",
    "    t = 0\n",
    "    while t < T_MAX:\n",
    "        sample = sample_func(X,t)\n",
    "        bmu_index, bmu = getBMU(prototypes[i], sample, distance)\n",
    "        alpha = getLearningRate(t, alpha0, beta)\n",
    "\n",
    "        #update the best matching prototype vector\n",
    "        index = 0\n",
    "        prototypes[i][bmu_index-1] = bmu + alpha*(sample - bmu)\n",
    "        t += 1\n",
    "    #we are done!"
   ]
  },
  {
   "cell_type": "code",
   "execution_count": 188,
   "metadata": {},
   "outputs": [],
   "source": [
    "#True: Normal ; False: Abnormal\n",
    "def getClassification(sample):\n",
    "    i1, bmu0 = getBMU(prototypes[0], sample, distance)\n",
    "    i2, bmu1 = getBMU(prototypes[1], sample, distance)\n",
    "    if(distance(sample, bmu0) < distance(sample, bmu1)):\n",
    "        return True \n",
    "    else:\n",
    "        return False"
   ]
  },
  {
   "cell_type": "code",
   "execution_count": 189,
   "metadata": {},
   "outputs": [
    {
     "name": "stdout",
     "output_type": "stream",
     "text": [
      "[[16. 28.]\n",
      " [48.  8.]]\n"
     ]
    }
   ],
   "source": [
    "confusion_matrix = np.zeros((2,2))\n",
    "\n",
    "#Classifying:\n",
    "for x in X_normal_test:\n",
    "    if getClassification(x):\n",
    "        confusion_matrix[0][0] += 1\n",
    "    else:\n",
    "        confusion_matrix[1][0] += 1\n",
    "\n",
    "for x in X_abnormal_test:\n",
    "    if getClassification(x):\n",
    "        confusion_matrix[0][1] += 1\n",
    "    else:\n",
    "        confusion_matrix[1][1] += 1\n",
    "print(confusion_matrix)"
   ]
  }
 ],
 "metadata": {
  "interpreter": {
   "hash": "63fd5069d213b44bf678585dea6b12cceca9941eaf7f819626cde1f2670de90d"
  },
  "kernelspec": {
   "display_name": "Python 3.9.6 64-bit",
   "language": "python",
   "name": "python3"
  },
  "language_info": {
   "codemirror_mode": {
    "name": "ipython",
    "version": 3
   },
   "file_extension": ".py",
   "mimetype": "text/x-python",
   "name": "python",
   "nbconvert_exporter": "python",
   "pygments_lexer": "ipython3",
   "version": "3.9.6"
  },
  "orig_nbformat": 4
 },
 "nbformat": 4,
 "nbformat_minor": 2
}
