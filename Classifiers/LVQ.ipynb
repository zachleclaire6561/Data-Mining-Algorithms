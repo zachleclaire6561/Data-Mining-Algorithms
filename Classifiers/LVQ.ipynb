{
 "cells": [
  {
   "cell_type": "code",
   "execution_count": 480,
   "metadata": {},
   "outputs": [],
   "source": [
    "import numpy as np\n",
    "import scipy.io\n",
    "import math"
   ]
  },
  {
   "cell_type": "code",
   "execution_count": 481,
   "metadata": {},
   "outputs": [],
   "source": [
    "#get matlab data as nested dictionary\n",
    "training = scipy.io.loadmat('ECG_train.mat')\n",
    "testing = scipy.io.loadmat('ECG_test.mat')\n",
    "\n",
    "#extract data from dictionaries\n",
    "X_normal = training['X_train_normal']\n",
    "X_abnormal = training['X_train_abnormal']\n",
    "\n",
    "X_normal_test = testing['X_test_normal']\n",
    "X_abnormal_test = testing['X_test_abnormal']"
   ]
  },
  {
   "cell_type": "code",
   "execution_count": 482,
   "metadata": {},
   "outputs": [],
   "source": [
    "k = 4 # number of neighbors to consider\n",
    "T_MAX = 1000\n",
    "alpha0 = 0.9"
   ]
  },
  {
   "cell_type": "code",
   "execution_count": 483,
   "metadata": {},
   "outputs": [],
   "source": [
    "def sample_func(X,t):\n",
    "    index = t%X.shape[0]\n",
    "    return X[index]"
   ]
  },
  {
   "cell_type": "code",
   "execution_count": 484,
   "metadata": {},
   "outputs": [],
   "source": [
    "def euclidian_distance(x1,x2):\n",
    "    return abs(np.linalg.norm(x1-x2))\n",
    "\n",
    "def getLearningRate(t, alpha0, beta):\n",
    "    return alpha0 * math.exp(-t*beta)\n",
    "\n",
    "distance = euclidian_distance"
   ]
  },
  {
   "cell_type": "code",
   "execution_count": 485,
   "metadata": {},
   "outputs": [],
   "source": [
    "def getBMU(prototypes, sample, distance):\n",
    "    #init variables\n",
    "    best_dist = float(\"inf\")\n",
    "    best_vec = 0\n",
    "\n",
    "    #check every prototype vector\n",
    "    index = 0\n",
    "    bmu_index = 0\n",
    "    for proto in prototypes:\n",
    "        #check if distance between sample and prototype < current lowest\n",
    "        new_dist = distance(sample,proto)\n",
    "        if  new_dist < best_dist:\n",
    "            best_dist = new_dist\n",
    "            best_vec = proto\n",
    "            bmu_index = index\n",
    "        index += 1\n",
    "    \n",
    "    return bmu_index, best_vec\n"
   ]
  },
  {
   "cell_type": "code",
   "execution_count": 486,
   "metadata": {},
   "outputs": [],
   "source": [
    "#True: Normal ; False: Abnormal\n",
    "def getClassification(sample):\n",
    "    i1, bmu0 = getBMU(prototypes[0], sample, distance)\n",
    "    i2, bmu1 = getBMU(prototypes[1], sample, distance)\n",
    "    if(distance(sample, bmu0) > distance(sample, bmu1)):\n",
    "        return True \n",
    "    else:\n",
    "        return False"
   ]
  },
  {
   "cell_type": "code",
   "execution_count": 489,
   "metadata": {},
   "outputs": [],
   "source": [
    "normal_correct = []\n",
    "abnormal_correct = []\n",
    "for k in range(1, 15):\n",
    "    prototypes = [None] * 2\n",
    "\n",
    "    for i in range(0,2):\n",
    "        X = []\n",
    "        if(i == 1):\n",
    "            X = X_normal\n",
    "        else:\n",
    "            X = X_abnormal\n",
    "        #get center of data\n",
    "        avg = np.zeros((1,X[0].shape[0]))\n",
    "        total = 0\n",
    "        #take sum of all vectors\n",
    "        for x in X:\n",
    "            avg += x\n",
    "            total += 1\n",
    "        #compute average\n",
    "        avg = avg * 1/total\n",
    "        prototypes[i] = np.tile(avg, (k, 1) ) + (0.5*np.ones((k, X[0].shape[0])) - np.random.rand(k, X[0].shape[0]))\n",
    "        beta = math.log(10)/T_MAX\n",
    "        #Loop through t:\n",
    "        t = 0\n",
    "        while t < T_MAX:\n",
    "            sample = sample_func(X,t)\n",
    "            bmu_index, bmu = getBMU(prototypes[i], sample, distance)\n",
    "            alpha = getLearningRate(t, alpha0, beta)\n",
    "\n",
    "            #update the best matching prototype vector\n",
    "            index = 0\n",
    "            prototypes[i][bmu_index] = bmu + alpha*(sample - bmu)\n",
    "            t += 1\n",
    "        #we are done!\n",
    "\n",
    "    confusion_matrix = np.zeros((2,2))\n",
    "\n",
    "    #Classifying:\n",
    "    for x in X_normal_test:\n",
    "        if getClassification(x):\n",
    "            confusion_matrix[0][0] += 1\n",
    "        else:\n",
    "            confusion_matrix[1][0] += 1\n",
    "\n",
    "    for x in X_abnormal_test:\n",
    "        if getClassification(x):\n",
    "            confusion_matrix[0][1] += 1\n",
    "        else:\n",
    "            confusion_matrix[1][1] += 1\n",
    "    total_normal = confusion_matrix[0][0]+confusion_matrix[1][0]\n",
    "    total_abnormal = confusion_matrix[0][1]+confusion_matrix[1][1]\n",
    "    normal_correct.append(confusion_matrix[0][0]/total_normal)\n",
    "    abnormal_correct.append(confusion_matrix[1][1]/total_abnormal)\n",
    "\n"
   ]
  },
  {
   "cell_type": "code",
   "execution_count": 523,
   "metadata": {},
   "outputs": [
    {
     "data": {
      "text/plain": [
       "'\\nplt.plot(normal_correct, color = \\'b\\')\\nplt.plot(abnormal_correct, color = \\'g\\')\\nplt.title(\"Number of Prototype Vectors vs Percent Correct\")\\nplt.ylabel(\\'Percent Correct\\')\\nplt.xlabel(\\'Number of prototype vectors\\')\\n#plt.show()\\nplt.legend([\\'Normal Heartbeat\\', \\'Abnormal Heartbeat\\'])\\nplt.savefig(\\'LVQ_varrying_k.png\\')\\n'"
      ]
     },
     "execution_count": 523,
     "metadata": {},
     "output_type": "execute_result"
    },
    {
     "data": {
      "image/png": "[encoded data removed]",
      "text/plain": [
       "<Figure size 432x288 with 4 Axes>"
      ]
     },
     "metadata": {
      "needs_background": "light"
     },
     "output_type": "display_data"
    }
   ],
   "source": [
    "import matplotlib.pyplot as plt\n",
    "import matplotlib.cbook as cbook\n",
    "'''\n",
    "fig, axs = plt.subplots(2, 2, sharex=True, sharey=True)\n",
    "beat_type = 0\n",
    "#beat_type = 1\n",
    "\n",
    "axs[0,0].plot(prototypes[beat_type][0])\n",
    "axs[0,0].set_title(\"Prototype vector 1\")\n",
    "plt.xlabel(\"time (ms)\")\n",
    "plt.ylabel(\"amplitude (mm)\")\n",
    "\n",
    "\n",
    "axs[0,1].plot(prototypes[beat_type][1])\n",
    "axs[0,1].set_title(\"Prototype vector 2\")\n",
    "plt.xlabel(\"time (ms)\")\n",
    "plt.ylabel(\"amplitude (mm)\")\n",
    "\n",
    "\n",
    "axs[1,0].plot(prototypes[beat_type][2])\n",
    "axs[1,0].set_title(\"Prototype vector 3\")\n",
    "plt.xlabel(\"time (ms)\")\n",
    "plt.ylabel(\"amplitude (mm)\")\n",
    "\n",
    "axs[1,1].plot(prototypes[beat_type][3])\n",
    "axs[1,1].set_title(\"Prototype vector 4\")\n",
    "'''\n",
    "\n",
    "fig, axs = plt.subplots(2, 2, sharex=True, sharey=True)\n",
    "beat_type = 1\n",
    "#beat_type = 1\n",
    "\n",
    "axs[0,0].plot(prototypes[beat_type][0])\n",
    "#axs[0,0].set_title(\"\")\n",
    "\n",
    "axs[0,1].plot(prototypes[beat_type][1])\n",
    "#axs[0,1].set_title(\"Prototype vector 2\")\n",
    "\n",
    "\n",
    "axs[1,0].plot(prototypes[beat_type][2])\n",
    "#axs[1,0].set_title(\"Prototype vector 3\")\n",
    "\n",
    "axs[1,1].plot(prototypes[beat_type][3])\n",
    "\n",
    "\n",
    "#fig.subplots_adjust(left=1.0, top=2.0, right=3.0)\n",
    "#plt.xlabel(\"time (ms)\")\n",
    "#plt.ylabel(\"amplitude (mm)\")\n",
    "\n",
    "plt.savefig('LVQ_prototypes_abnormal_ECG.png')\n",
    "\n",
    "'''\n",
    "plt.plot(normal_correct, color = 'b')\n",
    "plt.plot(abnormal_correct, color = 'g')\n",
    "plt.title(\"Number of Prototype Vectors vs Percent Correct\")\n",
    "plt.ylabel('Percent Correct')\n",
    "plt.xlabel('Number of prototype vectors')\n",
    "#plt.show()\n",
    "plt.legend(['Normal Heartbeat', 'Abnormal Heartbeat'])\n",
    "plt.savefig('LVQ_varrying_k.png')\n",
    "'''"
   ]
  }
 ],
 "metadata": {
  "interpreter": {
   "hash": "63fd5069d213b44bf678585dea6b12cceca9941eaf7f819626cde1f2670de90d"
  },
  "kernelspec": {
   "display_name": "Python 3.9.6 64-bit",
   "language": "python",
   "name": "python3"
  },
  "language_info": {
   "codemirror_mode": {
    "name": "ipython",
    "version": 3
   },
   "file_extension": ".py",
   "mimetype": "text/x-python",
   "name": "python",
   "nbconvert_exporter": "python",
   "pygments_lexer": "ipython3",
   "version": "3.9.6"
  },
  "orig_nbformat": 4
 },
 "nbformat": 4,
 "nbformat_minor": 2
}
