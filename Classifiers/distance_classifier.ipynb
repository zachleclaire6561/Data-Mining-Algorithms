{
 "cells": [
  {
   "cell_type": "code",
   "execution_count": 2,
   "metadata": {},
   "outputs": [],
   "source": [
    "import numpy as np\n",
    "import scipy.io\n",
    "\n",
    "#get matlab data as nested dictionary\n",
    "training = scipy.io.loadmat('ECG_train.mat')\n",
    "testing = scipy.io.loadmat('ECG_test.mat')\n",
    "\n",
    "#extract data from dictionaries\n",
    "X_normal = training['X_train_normal'].transpose()\n",
    "X_abnormal = training['X_train_abnormal'].transpose()\n",
    "\n",
    "X_normal_test = testing['X_test_normal'].transpose()\n",
    "X_abnormal_test = testing['X_test_abnormal'].transpose()"
   ]
  },
  {
   "cell_type": "code",
   "execution_count": 3,
   "metadata": {},
   "outputs": [],
   "source": [
    "#mean = sum / # items\n",
    "mean_normal = np.sum(X_normal, axis=1)/X_normal.shape[1]\n",
    "\n",
    "mean_abnormal = np.sum(X_abnormal, axis=1)/X_abnormal.shape[1]"
   ]
  },
  {
   "cell_type": "code",
   "execution_count": 16,
   "metadata": {},
   "outputs": [],
   "source": [
    "# True: normal; False: abnormal\n",
    "def distance_classifier(item):\n",
    "    return (distance(item, mean_normal) <= distance(item, mean_abnormal))\n",
    "\n",
    "def distance(v1, v2):\n",
    "    return np.linalg.norm(v1-v2, 2)"
   ]
  },
  {
   "cell_type": "code",
   "execution_count": 37,
   "metadata": {},
   "outputs": [
    {
     "name": "stdout",
     "output_type": "stream",
     "text": [
      "[[49. 10.]\n",
      " [15. 26.]]\n"
     ]
    }
   ],
   "source": [
    "#confusion matrix\n",
    "confusion_matrix = np.zeros((2,2))\n",
    "\n",
    "#Classifying:\n",
    "for i in range(0, X_normal_test.shape[1]):    \n",
    "    if distance_classifier(X_normal_test[:,i]):\n",
    "        confusion_matrix[0][0] += 1\n",
    "    else:\n",
    "        confusion_matrix[1][0] += 1\n",
    "\n",
    "for i in range(0, X_abnormal_test.shape[1]):\n",
    "    if not distance_classifier(X_normal_test[:,i]):\n",
    "        confusion_matrix[0][1] += 1\n",
    "    else:\n",
    "        confusion_matrix[1][1] += 1\n",
    "print(confusion_matrix)"
   ]
  }
 ],
 "metadata": {
  "interpreter": {
   "hash": "63fd5069d213b44bf678585dea6b12cceca9941eaf7f819626cde1f2670de90d"
  },
  "kernelspec": {
   "display_name": "Python 3.9.6 64-bit",
   "language": "python",
   "name": "python3"
  },
  "language_info": {
   "codemirror_mode": {
    "name": "ipython",
    "version": 3
   },
   "file_extension": ".py",
   "mimetype": "text/x-python",
   "name": "python",
   "nbconvert_exporter": "python",
   "pygments_lexer": "ipython3",
   "version": "3.9.6"
  },
  "orig_nbformat": 4
 },
 "nbformat": 4,
 "nbformat_minor": 2
}
