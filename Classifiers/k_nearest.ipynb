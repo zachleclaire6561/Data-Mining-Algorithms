{
 "cells": [
  {
   "cell_type": "code",
   "execution_count": 87,
   "metadata": {},
   "outputs": [],
   "source": [
    "import numpy as np\n",
    "import scipy.io\n",
    "\n",
    "#get matlab data as nested dictionary\n",
    "training = scipy.io.loadmat('ECG_train.mat')\n",
    "testing = scipy.io.loadmat('ECG_test.mat')\n",
    "\n",
    "#extract data from dictionaries\n",
    "X_normal = training['X_train_normal'].transpose()\n",
    "X_abnormal = training['X_train_abnormal'].transpose()\n",
    "\n",
    "X_normal_test = testing['X_test_normal'].transpose()\n",
    "X_abnormal_test = testing['X_test_abnormal'].transpose()"
   ]
  },
  {
   "cell_type": "code",
   "execution_count": 88,
   "metadata": {},
   "outputs": [],
   "source": [
    "def knearestneighbors(k: int, target):\n",
    "    #keeps track of how mnay normal elements\n",
    "    num_normal = 0\n",
    "\n",
    "    #init neighbors tuple\n",
    "    neighbors = []\n",
    "    for i in range(0, k):\n",
    "        neighbors.append((X_normal[:,i],))\n",
    "    #print(neighbors[1])\n",
    "\n",
    "\n",
    "    for i in range(0, X_normal.shape[1]):\n",
    "        x = X_normal[:, i]\n",
    "        for j in range(0, k):\n",
    "            if(np.linalg.norm(target-x, 2) < np.linalg.norm(target-neighbors[j])):\n",
    "                neighbors[j] = x\n",
    "                break\n",
    "    \n",
    "    num_normal = k\n",
    "    num_abnormal = 0\n",
    "\n",
    "    for i in range(0, X_abnormal.shape[1]):\n",
    "        x = X_abnormal[:, i]\n",
    "        for j in range(0, k):\n",
    "            if(np.linalg.norm(target-x, 2) < np.linalg.norm(target-neighbors[j])):\n",
    "                neighbors[j] = x\n",
    "                num_abnormal += 1\n",
    "                num_normal -= 1\n",
    "                break\n",
    "    # if number of normal > number of abnormal, it's True\n",
    "    if(k >= 1):\n",
    "        return (num_normal >= num_abnormal)"
   ]
  },
  {
   "cell_type": "code",
   "execution_count": 101,
   "metadata": {},
   "outputs": [],
   "source": [
    "normal_correct = []\n",
    "abnormal_correct = []\n",
    "x_axis = []\n",
    "confusion_matrix = np.zeros((2,2))\n",
    "\n",
    "k = 3 # number of neighbors to consider\n",
    "for k in range(1,29,2):\n",
    "    x_axis.append(k)\n",
    "    #Classifying:\n",
    "    for i in range(0, X_normal_test.shape[1]):    \n",
    "        if knearestneighbors(k, X_normal_test[:,i]):\n",
    "            confusion_matrix[0][0] += 1\n",
    "        else:\n",
    "            confusion_matrix[1][0] += 1\n",
    "\n",
    "    for i in range(0, X_abnormal_test.shape[1]):\n",
    "        if knearestneighbors(k, X_abnormal_test[:,i]):\n",
    "            confusion_matrix[0][1] += 1\n",
    "        else:\n",
    "            confusion_matrix[1][1] += 1\n",
    "\n",
    "    total_normal = confusion_matrix[0][0]+confusion_matrix[1][0]\n",
    "    total_abnormal = confusion_matrix[0][1]+confusion_matrix[1][1]\n",
    "    #print(confusion_matrix)\n",
    "    normal_correct.append(confusion_matrix[0][0]/total_normal)\n",
    "    abnormal_correct.append(confusion_matrix[1][1]/total_abnormal)\n"
   ]
  },
  {
   "cell_type": "code",
   "execution_count": 104,
   "metadata": {},
   "outputs": [
    {
     "data": {
      "image/png": "[encoded data removed]",
      "text/plain": [
       "<Figure size 432x288 with 1 Axes>"
      ]
     },
     "metadata": {
      "needs_background": "light"
     },
     "output_type": "display_data"
    }
   ],
   "source": [
    "import matplotlib.pyplot as plt\n",
    "import matplotlib.cbook as cbook\n",
    "\n",
    "plt.plot(x_axis, normal_correct, color = 'b')\n",
    "plt.plot(x_axis, abnormal_correct, color = 'g')\n",
    "plt.title(\"Number of Neighbors vs Percent Correct\")\n",
    "plt.ylabel('Percent Correct')\n",
    "plt.xlabel('Number of Neighbors considered')\n",
    "#plt.show()\n",
    "plt.legend(['Normal Heartbeat', 'Abnormal Heartbeat'])\n",
    "plt.savefig('k_nearest.png')\n"
   ]
  }
 ],
 "metadata": {
  "interpreter": {
   "hash": "63fd5069d213b44bf678585dea6b12cceca9941eaf7f819626cde1f2670de90d"
  },
  "kernelspec": {
   "display_name": "Python 3.9.6 64-bit",
   "language": "python",
   "name": "python3"
  },
  "language_info": {
   "codemirror_mode": {
    "name": "ipython",
    "version": 3
   },
   "file_extension": ".py",
   "mimetype": "text/x-python",
   "name": "python",
   "nbconvert_exporter": "python",
   "pygments_lexer": "ipython3",
   "version": "3.9.6"
  },
  "orig_nbformat": 4
 },
 "nbformat": 4,
 "nbformat_minor": 2
}
